{
  "nbformat": 4,
  "nbformat_minor": 0,
  "metadata": {
    "colab": {
      "provenance": []
    },
    "kernelspec": {
      "name": "python3",
      "display_name": "Python 3"
    },
    "language_info": {
      "name": "python"
    }
  },
  "cells": [
    {
      "cell_type": "code",
      "execution_count": 39,
      "metadata": {
        "colab": {
          "base_uri": "https://localhost:8080/"
        },
        "id": "ibyHE5oJQXCs",
        "outputId": "8838e279-2b00-4772-ea28-2cbcad04758d"
      },
      "outputs": [
        {
          "output_type": "stream",
          "name": "stdout",
          "text": [
            "[['Suomenlinna aaltopoiju', 2016], ['Vuosaari harbour', 2012], ['Kumpula', 2005], ['lighthouse', 2003], ['Harmaja', 1989], ['Malmi airfield', 1937], ['Kaivopuisto', 1904], ['Kaisaniemi', 1844]]\n",
            "['Harmaja', 'Kaisaniemi', 'Kaivopuisto', 'Kumpula', 'Malmi airfield', 'Suomenlinna aaltopoiju', 'Vuosaari harbour', 'lighthouse']\n",
            "[2016, 2012, 2005, 2003, 1989, 1937, 1904, 1844]\n"
          ]
        }
      ],
      "source": [
        "FMI_station_names = [\"lighthouse\", \"Harmaja\", \"Suomenlinna aaltopoiju\", \"Kumpula\", \"Kaisaniemi\" ]\n",
        "FMI_station_years = [2003, 1989, 2016, 2005, 1844]\n",
        "\n",
        "FMI_station_names.append(\"Malmi airfield\")\n",
        "FMI_station_names.append(\"Vuosaari harbour\")\n",
        "FMI_station_names.append(\"Kaivopuisto\")\n",
        "\n",
        "FMI_station_years.append(1937)\n",
        "FMI_station_years.append(2012)\n",
        "FMI_station_years.append(1904)\n",
        "\n",
        "def combine_and_sort(list_1, list_2):\n",
        "  comb = list(zip(list_1,list_2))\n",
        "  comb_l = []\n",
        "  for i in comb:\n",
        "    i = list(i)\n",
        "    comb_l.append(i)\n",
        "  sorted_comb = sorted(comb_l, key=lambda x:x[1], reverse=True)\n",
        "  return sorted_comb\n",
        "\n",
        "res = combine_and_sort(FMI_station_names, FMI_station_years)\n",
        "print(res)\n",
        "\n",
        "FMI_station_names.sort()\n",
        "print(FMI_station_names)\n",
        "\n",
        "FMI_station_years.sort(reverse=True)\n",
        "print(FMI_station_years)\n",
        "\n",
        "\n",
        "\n",
        "\n",
        "\n",
        "\n",
        "#FMI_station_years.sort(reverse = True)\n",
        "#FMI_station_years\n"
      ]
    },
    {
      "cell_type": "markdown",
      "source": [
        "### Problem 2"
      ],
      "metadata": {
        "id": "tEe543aznMDt"
      }
    },
    {
      "cell_type": "code",
      "source": [
        "Month = [\"January\",\"February\", \"March\", \"April\", \"May\", \"June\", \"July\",\"August\",\"September\",\"October\",\"November\",\"December\"]\n",
        "Temperature = [-3.5, -4.5, -1.0, 4.0, 10.0, 15.0, 18.0, 16.0, 11.5, 6.0, 2.0, -1.5]\n",
        "\n",
        "for i in range(len(Month)):\n",
        "  print(f\"The average temperature in Helsinki in {Month[i]} is {Temperature[i]}\")"
      ],
      "metadata": {
        "colab": {
          "base_uri": "https://localhost:8080/"
        },
        "id": "EpuUGFR1nJ-N",
        "outputId": "022319a5-584b-40a0-f36c-ffd54c3f85ea"
      },
      "execution_count": 43,
      "outputs": [
        {
          "output_type": "stream",
          "name": "stdout",
          "text": [
            "True\n",
            "The average temperature in Helsinki in January is -3.5\n",
            "The average temperature in Helsinki in February is -4.5\n",
            "The average temperature in Helsinki in March is -1.0\n",
            "The average temperature in Helsinki in April is 4.0\n",
            "The average temperature in Helsinki in May is 10.0\n",
            "The average temperature in Helsinki in June is 15.0\n",
            "The average temperature in Helsinki in July is 18.0\n",
            "The average temperature in Helsinki in August is 16.0\n",
            "The average temperature in Helsinki in September is 11.5\n",
            "The average temperature in Helsinki in October is 6.0\n",
            "The average temperature in Helsinki in November is 2.0\n",
            "The average temperature in Helsinki in December is -1.5\n"
          ]
        }
      ]
    }
  ]
}