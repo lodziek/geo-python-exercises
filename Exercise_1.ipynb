{
  "nbformat": 4,
  "nbformat_minor": 0,
  "metadata": {
    "colab": {
      "provenance": []
    },
    "kernelspec": {
      "name": "python3",
      "display_name": "Python 3"
    },
    "language_info": {
      "name": "python"
    }
  },
  "cells": [
    {
      "cell_type": "code",
      "execution_count": null,
      "metadata": {
        "id": "ZOtJOQA-bCW1"
      },
      "outputs": [],
      "source": [
        "ice_cream_rating = 8\n",
        "sleeping_rating = 7"
      ]
    },
    {
      "cell_type": "code",
      "source": [
        "first_name = \"Aghiles\"\n",
        "last_name = \"AHMED ZAID\"\n",
        "my_name = first_name + \" \" + last_name"
      ],
      "metadata": {
        "id": "dR55myIBbXq-"
      },
      "execution_count": 2,
      "outputs": []
    },
    {
      "cell_type": "code",
      "source": [
        "happiness_rating = (ice_cream_rating + sleeping_rating) / 2"
      ],
      "metadata": {
        "id": "Zr411HFRcOd-"
      },
      "execution_count": 3,
      "outputs": []
    },
    {
      "cell_type": "code",
      "source": [
        "print(type(ice_cream_rating), type(first_name), type(happiness_rating ))"
      ],
      "metadata": {
        "colab": {
          "base_uri": "https://localhost:8080/"
        },
        "id": "m9b1b8tucc0Y",
        "outputId": "05792546-07d3-46d0-fd39-7b571a1777c8"
      },
      "execution_count": 4,
      "outputs": [
        {
          "output_type": "stream",
          "name": "stdout",
          "text": [
            "<class 'int'> <class 'str'> <class 'float'>\n"
          ]
        }
      ]
    },
    {
      "cell_type": "markdown",
      "source": [
        "for the ice_cream_rating and first_name datatypes it makes sens to have respectively int and string datatype.\n",
        "for the happiness_rating the datatype is setted to float because every division result is considered as that even if both divided numbers are integers (int)"
      ],
      "metadata": {
        "id": "1jolubscdTBa"
      }
    },
    {
      "cell_type": "code",
      "source": [
        "f\"\"\"My name is {first_name} and I give eating ice cream a score of {ice_cream_rating} out of 10!\n",
        "I am {my_name} and my sleeping enjoyment rating is {sleeping_rating} / 10!\n",
        "Based on the factors above, my happiness rating is {happiness_rating} out of 10, or {happiness_rating * 10} %!\"\"\""
      ],
      "metadata": {
        "colab": {
          "base_uri": "https://localhost:8080/",
          "height": 70
        },
        "id": "t7O_JzlvdBG9",
        "outputId": "2ce04547-bd4b-40a5-b998-75c9dab5928d"
      },
      "execution_count": 5,
      "outputs": [
        {
          "output_type": "execute_result",
          "data": {
            "text/plain": [
              "'My name is Aghiles and I give eating ice cream a score of 8 out of 10!\\nI am Aghiles AHMED ZAID and my sleeping enjoyment rating is 7 / 10!\\nBased on the factors above, my happiness rating is 7.5 out of 10, or 75.0 %!'"
            ],
            "application/vnd.google.colaboratory.intrinsic+json": {
              "type": "string"
            }
          },
          "metadata": {},
          "execution_count": 5
        }
      ]
    }
  ]
}